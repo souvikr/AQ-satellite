{
 "cells": [
  {
   "cell_type": "code",
   "execution_count": 1,
   "metadata": {},
   "outputs": [],
   "source": [
    "import pandas as pd"
   ]
  },
  {
   "cell_type": "code",
   "execution_count": 2,
   "metadata": {},
   "outputs": [],
   "source": [
    "df = pd.read_excel(\"pm_nasa.xlsx\")"
   ]
  },
  {
   "cell_type": "code",
   "execution_count": 4,
   "metadata": {},
   "outputs": [
    {
     "data": {
      "text/html": [
       "<div>\n",
       "<style scoped>\n",
       "    .dataframe tbody tr th:only-of-type {\n",
       "        vertical-align: middle;\n",
       "    }\n",
       "\n",
       "    .dataframe tbody tr th {\n",
       "        vertical-align: top;\n",
       "    }\n",
       "\n",
       "    .dataframe thead th {\n",
       "        text-align: right;\n",
       "    }\n",
       "</style>\n",
       "<table border=\"1\" class=\"dataframe\">\n",
       "  <thead>\n",
       "    <tr style=\"text-align: right;\">\n",
       "      <th></th>\n",
       "      <th>StationNum</th>\n",
       "      <th>GMT</th>\n",
       "      <th>AQS</th>\n",
       "      <th>LAT</th>\n",
       "      <th>LON</th>\n",
       "      <th>YEAR</th>\n",
       "      <th>MONTH</th>\n",
       "      <th>DAY</th>\n",
       "      <th>MODHR</th>\n",
       "      <th>TAU</th>\n",
       "      <th>...</th>\n",
       "      <th>PM24H</th>\n",
       "      <th>RUCHR</th>\n",
       "      <th>RUCPIX</th>\n",
       "      <th>TMP</th>\n",
       "      <th>RH</th>\n",
       "      <th>WS10m</th>\n",
       "      <th>WS925</th>\n",
       "      <th>HPBL</th>\n",
       "      <th>PRS</th>\n",
       "      <th>VIS</th>\n",
       "    </tr>\n",
       "  </thead>\n",
       "  <tbody>\n",
       "    <tr>\n",
       "      <th>23277</th>\n",
       "      <td>320</td>\n",
       "      <td>-5</td>\n",
       "      <td>371170001</td>\n",
       "      <td>35.81</td>\n",
       "      <td>-76.90</td>\n",
       "      <td>2006</td>\n",
       "      <td>12</td>\n",
       "      <td>30</td>\n",
       "      <td>15.25</td>\n",
       "      <td>0.07</td>\n",
       "      <td>...</td>\n",
       "      <td>10.67</td>\n",
       "      <td>15</td>\n",
       "      <td>6</td>\n",
       "      <td>280.12</td>\n",
       "      <td>88.94</td>\n",
       "      <td>0.93</td>\n",
       "      <td>6.11</td>\n",
       "      <td>124.83</td>\n",
       "      <td>1033.20</td>\n",
       "      <td>9.34</td>\n",
       "    </tr>\n",
       "    <tr>\n",
       "      <th>23278</th>\n",
       "      <td>344</td>\n",
       "      <td>-5</td>\n",
       "      <td>371910005</td>\n",
       "      <td>35.37</td>\n",
       "      <td>-77.99</td>\n",
       "      <td>2006</td>\n",
       "      <td>12</td>\n",
       "      <td>30</td>\n",
       "      <td>16.83</td>\n",
       "      <td>0.10</td>\n",
       "      <td>...</td>\n",
       "      <td>13.08</td>\n",
       "      <td>17</td>\n",
       "      <td>8</td>\n",
       "      <td>286.85</td>\n",
       "      <td>57.07</td>\n",
       "      <td>2.21</td>\n",
       "      <td>3.01</td>\n",
       "      <td>290.00</td>\n",
       "      <td>1028.37</td>\n",
       "      <td>20.85</td>\n",
       "    </tr>\n",
       "    <tr>\n",
       "      <th>23279</th>\n",
       "      <td>320</td>\n",
       "      <td>-5</td>\n",
       "      <td>371170001</td>\n",
       "      <td>35.81</td>\n",
       "      <td>-76.90</td>\n",
       "      <td>2006</td>\n",
       "      <td>12</td>\n",
       "      <td>31</td>\n",
       "      <td>15.92</td>\n",
       "      <td>0.17</td>\n",
       "      <td>...</td>\n",
       "      <td>13.38</td>\n",
       "      <td>16</td>\n",
       "      <td>6</td>\n",
       "      <td>287.57</td>\n",
       "      <td>55.72</td>\n",
       "      <td>3.08</td>\n",
       "      <td>0.88</td>\n",
       "      <td>442.83</td>\n",
       "      <td>1028.75</td>\n",
       "      <td>21.33</td>\n",
       "    </tr>\n",
       "    <tr>\n",
       "      <th>23280</th>\n",
       "      <td>330</td>\n",
       "      <td>-5</td>\n",
       "      <td>371290002</td>\n",
       "      <td>34.36</td>\n",
       "      <td>-77.84</td>\n",
       "      <td>2006</td>\n",
       "      <td>12</td>\n",
       "      <td>31</td>\n",
       "      <td>15.92</td>\n",
       "      <td>0.12</td>\n",
       "      <td>...</td>\n",
       "      <td>8.96</td>\n",
       "      <td>16</td>\n",
       "      <td>5</td>\n",
       "      <td>290.58</td>\n",
       "      <td>65.91</td>\n",
       "      <td>2.95</td>\n",
       "      <td>7.67</td>\n",
       "      <td>575.80</td>\n",
       "      <td>1027.60</td>\n",
       "      <td>15.76</td>\n",
       "    </tr>\n",
       "    <tr>\n",
       "      <th>23281</th>\n",
       "      <td>250</td>\n",
       "      <td>-6</td>\n",
       "      <td>280110001</td>\n",
       "      <td>33.75</td>\n",
       "      <td>-90.72</td>\n",
       "      <td>2006</td>\n",
       "      <td>12</td>\n",
       "      <td>31</td>\n",
       "      <td>17.58</td>\n",
       "      <td>0.11</td>\n",
       "      <td>...</td>\n",
       "      <td>5.38</td>\n",
       "      <td>18</td>\n",
       "      <td>6</td>\n",
       "      <td>288.20</td>\n",
       "      <td>65.30</td>\n",
       "      <td>5.93</td>\n",
       "      <td>8.69</td>\n",
       "      <td>872.67</td>\n",
       "      <td>1011.98</td>\n",
       "      <td>17.03</td>\n",
       "    </tr>\n",
       "  </tbody>\n",
       "</table>\n",
       "<p>5 rows × 23 columns</p>\n",
       "</div>"
      ],
      "text/plain": [
       "       StationNum  GMT        AQS    LAT    LON  YEAR  MONTH  DAY  MODHR  \\\n",
       "23277         320   -5  371170001  35.81 -76.90  2006     12   30  15.25   \n",
       "23278         344   -5  371910005  35.37 -77.99  2006     12   30  16.83   \n",
       "23279         320   -5  371170001  35.81 -76.90  2006     12   31  15.92   \n",
       "23280         330   -5  371290002  34.36 -77.84  2006     12   31  15.92   \n",
       "23281         250   -6  280110001  33.75 -90.72  2006     12   31  17.58   \n",
       "\n",
       "        TAU  ...  PM24H  RUCHR  RUCPIX     TMP     RH  WS10m  WS925    HPBL  \\\n",
       "23277  0.07  ...  10.67     15       6  280.12  88.94   0.93   6.11  124.83   \n",
       "23278  0.10  ...  13.08     17       8  286.85  57.07   2.21   3.01  290.00   \n",
       "23279  0.17  ...  13.38     16       6  287.57  55.72   3.08   0.88  442.83   \n",
       "23280  0.12  ...   8.96     16       5  290.58  65.91   2.95   7.67  575.80   \n",
       "23281  0.11  ...   5.38     18       6  288.20  65.30   5.93   8.69  872.67   \n",
       "\n",
       "           PRS    VIS  \n",
       "23277  1033.20   9.34  \n",
       "23278  1028.37  20.85  \n",
       "23279  1028.75  21.33  \n",
       "23280  1027.60  15.76  \n",
       "23281  1011.98  17.03  \n",
       "\n",
       "[5 rows x 23 columns]"
      ]
     },
     "execution_count": 4,
     "metadata": {},
     "output_type": "execute_result"
    }
   ],
   "source": [
    "df.tail(5)"
   ]
  },
  {
   "cell_type": "code",
   "execution_count": 5,
   "metadata": {},
   "outputs": [
    {
     "data": {
      "text/plain": [
       "Index(['StationNum', 'GMT', 'AQS', 'LAT', 'LON', 'YEAR', 'MONTH', 'DAY',\n",
       "       'MODHR', 'TAU', 'CLOUD', 'MODPIX', 'PM1H', 'PM24H', 'RUCHR', 'RUCPIX',\n",
       "       'TMP', 'RH', 'WS10m', 'WS925', 'HPBL', 'PRS', 'VIS'],\n",
       "      dtype='object')"
      ]
     },
     "execution_count": 5,
     "metadata": {},
     "output_type": "execute_result"
    }
   ],
   "source": [
    "df.columns"
   ]
  },
  {
   "cell_type": "code",
   "execution_count": 21,
   "metadata": {},
   "outputs": [
    {
     "data": {
      "text/plain": [
       "<matplotlib.axes._subplots.AxesSubplot at 0x1bf1aef1f98>"
      ]
     },
     "execution_count": 21,
     "metadata": {},
     "output_type": "execute_result"
    },
    {
     "data": {
      "image/png": "[encoded data removed]",
      "text/plain": [
       "<Figure size 432x288 with 1 Axes>"
      ]
     },
     "metadata": {
      "needs_background": "light"
     },
     "output_type": "display_data"
    }
   ],
   "source": [
    "df['HPBL'].hist(bins = 4)"
   ]
  },
  {
   "cell_type": "code",
   "execution_count": null,
   "metadata": {},
   "outputs": [],
   "source": []
  }
 ],
 "metadata": {
  "kernelspec": {
   "display_name": "Python 3",
   "language": "python",
   "name": "python3"
  },
  "language_info": {
   "codemirror_mode": {
    "name": "ipython",
    "version": 3
   },
   "file_extension": ".py",
   "mimetype": "text/x-python",
   "name": "python",
   "nbconvert_exporter": "python",
   "pygments_lexer": "ipython3",
   "version": "3.6.8"
  }
 },
 "nbformat": 4,
 "nbformat_minor": 2
}
