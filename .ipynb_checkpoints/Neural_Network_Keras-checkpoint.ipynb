{
 "cells": [
  {
   "cell_type": "code",
   "execution_count": 15,
   "metadata": {},
   "outputs": [
    {
     "name": "stderr",
     "output_type": "stream",
     "text": [
      "Using TensorFlow backend.\n"
     ]
    }
   ],
   "source": [
    "import numpy as np\n",
    "import pandas as pd\n",
    "\n",
    "from keras.layers import Dense\n",
    "from keras.models import Sequential\n",
    "from sklearn.preprocessing import MinMaxScaler\n",
    "from keras.layers import Flatten\n",
    "from sklearn.model_selection import train_test_split\n",
    "from scipy.stats.stats import pearsonr\n",
    "from keras.optimizers import Adam\n",
    "\n",
    "import matplotlib.pyplot as plt\n",
    "%matplotlib inline"
   ]
  },
  {
   "cell_type": "code",
   "execution_count": 2,
   "metadata": {},
   "outputs": [],
   "source": [
    "df = pd.read_excel(\"pm_nasa.xlsx\")"
   ]
  },
  {
   "cell_type": "code",
   "execution_count": 80,
   "metadata": {},
   "outputs": [],
   "source": [
    "x = pd.DataFrame(df[['TAU', 'RH','TMP','HPBL','WS10m','CLOUD','PM24H']])"
   ]
  },
  {
   "cell_type": "code",
   "execution_count": 81,
   "metadata": {},
   "outputs": [],
   "source": [
    "def create_mlp(dim, regress=False):\n",
    "    # defining MLP\n",
    "    model = Sequential()\n",
    "    model.add(Dense(16, input_dim=dim, activation=\"relu\"))\n",
    "    model.add(Dense(8, activation=\"relu\"))\n",
    "\n",
    "    # check to see if the regression node should be added\n",
    "    if regress:\n",
    "        model.add(Dense(1, activation=\"relu\"))\n",
    "\n",
    "    # return our model\n",
    "    return model"
   ]
  },
  {
   "cell_type": "code",
   "execution_count": 82,
   "metadata": {},
   "outputs": [],
   "source": [
    "(train1, test) = train_test_split(x, test_size=0.2, random_state=42)\n",
    "(train,valid) = train_test_split(train1, test_size=0.2, random_state=42)"
   ]
  },
  {
   "cell_type": "code",
   "execution_count": 83,
   "metadata": {},
   "outputs": [],
   "source": [
    "maxPM = train[\"PM24H\"].max()\n",
    "trainY = train[\"PM24H\"] / maxPM\n",
    "testY = test[\"PM24H\"] / maxPM\n",
    "validY = valid[\"PM24H\"] / maxPM"
   ]
  },
  {
   "cell_type": "code",
   "execution_count": 84,
   "metadata": {},
   "outputs": [],
   "source": [
    "def process_house_attributes(df, train, test,valid):\n",
    "    continuous = ['TAU', 'RH','TMP','HPBL','WS10m','CLOUD']\n",
    "    cs = MinMaxScaler()\n",
    "    trainContinuous = cs.fit_transform(train[continuous])\n",
    "    testContinuous = cs.transform(test[continuous])\n",
    "    validContinuous = cs.transform(valid[continuous])\n",
    "    return (trainContinuous,testContinuous,validContinuous)"
   ]
  },
  {
   "cell_type": "code",
   "execution_count": 85,
   "metadata": {},
   "outputs": [],
   "source": [
    "(trainX,testX,validX) = process_house_attributes(x,train,test,valid)"
   ]
  },
  {
   "cell_type": "code",
   "execution_count": 86,
   "metadata": {},
   "outputs": [
    {
     "data": {
      "text/plain": [
       "(4657, 6)"
      ]
     },
     "execution_count": 86,
     "metadata": {},
     "output_type": "execute_result"
    }
   ],
   "source": [
    "testX.shape"
   ]
  },
  {
   "cell_type": "code",
   "execution_count": 87,
   "metadata": {},
   "outputs": [
    {
     "data": {
      "text/plain": [
       "(3725, 6)"
      ]
     },
     "execution_count": 87,
     "metadata": {},
     "output_type": "execute_result"
    }
   ],
   "source": [
    "validX.shape"
   ]
  },
  {
   "cell_type": "code",
   "execution_count": 88,
   "metadata": {},
   "outputs": [
    {
     "name": "stdout",
     "output_type": "stream",
     "text": [
      "Training Model: - \n",
      "Train on 14900 samples, validate on 3725 samples\n",
      "Epoch 1/30\n",
      "14900/14900 [==============================] - 3s 199us/step - loss: 31.2130 - val_loss: 31.5841\n",
      "Epoch 2/30\n",
      "14900/14900 [==============================] - 3s 177us/step - loss: 29.5529 - val_loss: 29.7239\n",
      "Epoch 3/30\n",
      "14900/14900 [==============================] - 3s 168us/step - loss: 29.3439 - val_loss: 30.4045\n",
      "Epoch 4/30\n",
      "14900/14900 [==============================] - 2s 166us/step - loss: 29.3509 - val_loss: 29.3164\n",
      "Epoch 5/30\n",
      "14900/14900 [==============================] - 3s 208us/step - loss: 29.0058 - val_loss: 29.2406\n",
      "Epoch 6/30\n",
      "14900/14900 [==============================] - 3s 205us/step - loss: 28.7879 - val_loss: 29.3962\n",
      "Epoch 7/30\n",
      "14900/14900 [==============================] - 3s 225us/step - loss: 28.6716 - val_loss: 29.0932\n",
      "Epoch 8/30\n",
      "14900/14900 [==============================] - 3s 204us/step - loss: 28.5758 - val_loss: 28.8371\n",
      "Epoch 9/30\n",
      "14900/14900 [==============================] - 3s 177us/step - loss: 28.4787 - val_loss: 28.4003\n",
      "Epoch 10/30\n",
      "14900/14900 [==============================] - 3s 179us/step - loss: 28.3408 - val_loss: 28.6176\n",
      "Epoch 11/30\n",
      "14900/14900 [==============================] - 3s 176us/step - loss: 28.3498 - val_loss: 28.5582\n",
      "Epoch 12/30\n",
      "14900/14900 [==============================] - 3s 227us/step - loss: 28.2396 - val_loss: 28.3335\n",
      "Epoch 13/30\n",
      "14900/14900 [==============================] - 3s 183us/step - loss: 28.2348 - val_loss: 28.8289\n",
      "Epoch 14/30\n",
      "14900/14900 [==============================] - 3s 176us/step - loss: 28.2600 - val_loss: 28.4736\n",
      "Epoch 15/30\n",
      "14900/14900 [==============================] - 3s 183us/step - loss: 28.1228 - val_loss: 28.3510\n",
      "Epoch 16/30\n",
      "14900/14900 [==============================] - 3s 173us/step - loss: 28.1730 - val_loss: 29.3887\n",
      "Epoch 17/30\n",
      "14900/14900 [==============================] - 3s 187us/step - loss: 28.1636 - val_loss: 29.0120\n",
      "Epoch 18/30\n",
      "14900/14900 [==============================] - 3s 213us/step - loss: 28.0589 - val_loss: 28.1711\n",
      "Epoch 19/30\n",
      "14900/14900 [==============================] - 3s 187us/step - loss: 28.0365 - val_loss: 28.3943\n",
      "Epoch 20/30\n",
      "14900/14900 [==============================] - 3s 179us/step - loss: 28.0647 - val_loss: 28.3440\n",
      "Epoch 21/30\n",
      "14900/14900 [==============================] - 3s 177us/step - loss: 27.9851 - val_loss: 28.2208\n",
      "Epoch 22/30\n",
      "14900/14900 [==============================] - 3s 187us/step - loss: 28.0160 - val_loss: 28.9498\n",
      "Epoch 23/30\n",
      "14900/14900 [==============================] - 3s 214us/step - loss: 28.0266 - val_loss: 28.2329\n",
      "Epoch 24/30\n",
      "14900/14900 [==============================] - 3s 218us/step - loss: 28.0254 - val_loss: 28.1119\n",
      "Epoch 25/30\n",
      "14900/14900 [==============================] - 3s 198us/step - loss: 27.9367 - val_loss: 28.4879\n",
      "Epoch 26/30\n",
      "14900/14900 [==============================] - 3s 184us/step - loss: 27.9931 - val_loss: 28.3821\n",
      "Epoch 27/30\n",
      "14900/14900 [==============================] - 3s 180us/step - loss: 27.9787 - val_loss: 28.3232\n",
      "Epoch 28/30\n",
      "14900/14900 [==============================] - 3s 180us/step - loss: 27.9224 - val_loss: 28.1859\n",
      "Epoch 29/30\n",
      "14900/14900 [==============================] - 3s 212us/step - loss: 27.8716 - val_loss: 28.2708\n",
      "Epoch 30/30\n",
      "14900/14900 [==============================] - 3s 195us/step - loss: 27.8846 - val_loss: 28.2691\n"
     ]
    },
    {
     "data": {
      "text/plain": [
       "<keras.callbacks.History at 0x1fc075f7f98>"
      ]
     },
     "execution_count": 88,
     "metadata": {},
     "output_type": "execute_result"
    }
   ],
   "source": [
    "model = create_mlp(trainX.shape[1], regress=True)\n",
    "opt = Adam(lr=1e-3, decay=1e-3 / 200)\n",
    "model.compile(loss=\"mean_absolute_percentage_error\", optimizer=opt)\n",
    " \n",
    "# train the model\n",
    "print(\"Training Model: - \")\n",
    "model.fit(trainX, trainY, validation_data=(validX, validY),\n",
    "epochs=30, batch_size=8)"
   ]
  },
  {
   "cell_type": "code",
   "execution_count": 89,
   "metadata": {},
   "outputs": [
    {
     "name": "stdout",
     "output_type": "stream",
     "text": [
      "Predicting PM2.5\n",
      "[INFO] Mean: 28.43%, std: 26.42%\n"
     ]
    }
   ],
   "source": [
    "# make predictions on the testing data\n",
    "print(\"Predicting PM2.5\")\n",
    "preds = model.predict(testX)\n",
    "\n",
    "diff = preds.flatten() - testY\n",
    "percentDiff = (diff / testY) * 100\n",
    "absPercentDiff = np.abs(percentDiff)\n",
    " \n",
    "# compute the mean and standard deviation of the absolute percentage\n",
    "# difference\n",
    "mean = np.mean(absPercentDiff)\n",
    "std = np.std(absPercentDiff)\n",
    " \n",
    "\n",
    "print(\"[INFO] Mean: {:.2f}%, std: {:.2f}%\".format(mean, std))"
   ]
  },
  {
   "cell_type": "code",
   "execution_count": 90,
   "metadata": {},
   "outputs": [
    {
     "data": {
      "text/plain": [
       "0.6865989232729559"
      ]
     },
     "execution_count": 90,
     "metadata": {},
     "output_type": "execute_result"
    }
   ],
   "source": [
    "r = pearsonr(testY.values,preds.flatten())[0]\n",
    "r"
   ]
  },
  {
   "cell_type": "code",
   "execution_count": 91,
   "metadata": {},
   "outputs": [
    {
     "data": {
      "text/plain": [
       "array([0.34633854, 0.39885954, 0.10384154, ..., 0.12935174, 0.2319928 ,\n",
       "       0.08313325])"
      ]
     },
     "execution_count": 91,
     "metadata": {},
     "output_type": "execute_result"
    }
   ],
   "source": [
    "testY.values"
   ]
  },
  {
   "cell_type": "code",
   "execution_count": 92,
   "metadata": {},
   "outputs": [
    {
     "data": {
      "text/plain": [
       "array([0.14119773, 0.19585764, 0.12360987, ..., 0.16297862, 0.15462649,\n",
       "       0.09677529], dtype=float32)"
      ]
     },
     "execution_count": 92,
     "metadata": {},
     "output_type": "execute_result"
    }
   ],
   "source": [
    "preds.flatten()"
   ]
  },
  {
   "cell_type": "code",
   "execution_count": 93,
   "metadata": {},
   "outputs": [
    {
     "data": {
      "text/plain": [
       "<matplotlib.collections.PathCollection at 0x1fc07b6ceb8>"
      ]
     },
     "execution_count": 93,
     "metadata": {},
     "output_type": "execute_result"
    },
    {
     "data": {
      "image/png": "[encoded data removed]",
      "text/plain": [
       "<Figure size 432x288 with 1 Axes>"
      ]
     },
     "metadata": {
      "needs_background": "light"
     },
     "output_type": "display_data"
    }
   ],
   "source": [
    "plt.scatter(preds,testY)"
   ]
  },
  {
   "cell_type": "code",
   "execution_count": null,
   "metadata": {},
   "outputs": [],
   "source": []
  }
 ],
 "metadata": {
  "kernelspec": {
   "display_name": "Python 3",
   "language": "python",
   "name": "python3"
  },
  "language_info": {
   "codemirror_mode": {
    "name": "ipython",
    "version": 3
   },
   "file_extension": ".py",
   "mimetype": "text/x-python",
   "name": "python",
   "nbconvert_exporter": "python",
   "pygments_lexer": "ipython3",
   "version": "3.6.8"
  }
 },
 "nbformat": 4,
 "nbformat_minor": 2
}
