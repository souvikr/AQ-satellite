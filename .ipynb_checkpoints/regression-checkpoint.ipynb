{
 "cells": [
  {
   "cell_type": "code",
   "execution_count": 1,
   "metadata": {},
   "outputs": [],
   "source": [
    "import pandas as pd"
   ]
  },
  {
   "cell_type": "code",
   "execution_count": 2,
   "metadata": {},
   "outputs": [],
   "source": [
    "df = pd.read_excel(\"pm_nasa.xlsx\")"
   ]
  },
  {
   "cell_type": "code",
   "execution_count": 3,
   "metadata": {},
   "outputs": [
    {
     "data": {
      "text/html": [
       "<div>\n",
       "<style scoped>\n",
       "    .dataframe tbody tr th:only-of-type {\n",
       "        vertical-align: middle;\n",
       "    }\n",
       "\n",
       "    .dataframe tbody tr th {\n",
       "        vertical-align: top;\n",
       "    }\n",
       "\n",
       "    .dataframe thead th {\n",
       "        text-align: right;\n",
       "    }\n",
       "</style>\n",
       "<table border=\"1\" class=\"dataframe\">\n",
       "  <thead>\n",
       "    <tr style=\"text-align: right;\">\n",
       "      <th></th>\n",
       "      <th>StationNum</th>\n",
       "      <th>GMT</th>\n",
       "      <th>AQS</th>\n",
       "      <th>LAT</th>\n",
       "      <th>LON</th>\n",
       "      <th>YEAR</th>\n",
       "      <th>MONTH</th>\n",
       "      <th>DAY</th>\n",
       "      <th>MODHR</th>\n",
       "      <th>TAU</th>\n",
       "      <th>...</th>\n",
       "      <th>PM24H</th>\n",
       "      <th>RUCHR</th>\n",
       "      <th>RUCPIX</th>\n",
       "      <th>TMP</th>\n",
       "      <th>RH</th>\n",
       "      <th>WS10m</th>\n",
       "      <th>WS925</th>\n",
       "      <th>HPBL</th>\n",
       "      <th>PRS</th>\n",
       "      <th>VIS</th>\n",
       "    </tr>\n",
       "  </thead>\n",
       "  <tbody>\n",
       "    <tr>\n",
       "      <th>23277</th>\n",
       "      <td>320</td>\n",
       "      <td>-5</td>\n",
       "      <td>371170001</td>\n",
       "      <td>35.81</td>\n",
       "      <td>-76.90</td>\n",
       "      <td>2006</td>\n",
       "      <td>12</td>\n",
       "      <td>30</td>\n",
       "      <td>15.25</td>\n",
       "      <td>0.07</td>\n",
       "      <td>...</td>\n",
       "      <td>10.67</td>\n",
       "      <td>15</td>\n",
       "      <td>6</td>\n",
       "      <td>280.12</td>\n",
       "      <td>88.94</td>\n",
       "      <td>0.93</td>\n",
       "      <td>6.11</td>\n",
       "      <td>124.83</td>\n",
       "      <td>1033.20</td>\n",
       "      <td>9.34</td>\n",
       "    </tr>\n",
       "    <tr>\n",
       "      <th>23278</th>\n",
       "      <td>344</td>\n",
       "      <td>-5</td>\n",
       "      <td>371910005</td>\n",
       "      <td>35.37</td>\n",
       "      <td>-77.99</td>\n",
       "      <td>2006</td>\n",
       "      <td>12</td>\n",
       "      <td>30</td>\n",
       "      <td>16.83</td>\n",
       "      <td>0.10</td>\n",
       "      <td>...</td>\n",
       "      <td>13.08</td>\n",
       "      <td>17</td>\n",
       "      <td>8</td>\n",
       "      <td>286.85</td>\n",
       "      <td>57.07</td>\n",
       "      <td>2.21</td>\n",
       "      <td>3.01</td>\n",
       "      <td>290.00</td>\n",
       "      <td>1028.37</td>\n",
       "      <td>20.85</td>\n",
       "    </tr>\n",
       "    <tr>\n",
       "      <th>23279</th>\n",
       "      <td>320</td>\n",
       "      <td>-5</td>\n",
       "      <td>371170001</td>\n",
       "      <td>35.81</td>\n",
       "      <td>-76.90</td>\n",
       "      <td>2006</td>\n",
       "      <td>12</td>\n",
       "      <td>31</td>\n",
       "      <td>15.92</td>\n",
       "      <td>0.17</td>\n",
       "      <td>...</td>\n",
       "      <td>13.38</td>\n",
       "      <td>16</td>\n",
       "      <td>6</td>\n",
       "      <td>287.57</td>\n",
       "      <td>55.72</td>\n",
       "      <td>3.08</td>\n",
       "      <td>0.88</td>\n",
       "      <td>442.83</td>\n",
       "      <td>1028.75</td>\n",
       "      <td>21.33</td>\n",
       "    </tr>\n",
       "    <tr>\n",
       "      <th>23280</th>\n",
       "      <td>330</td>\n",
       "      <td>-5</td>\n",
       "      <td>371290002</td>\n",
       "      <td>34.36</td>\n",
       "      <td>-77.84</td>\n",
       "      <td>2006</td>\n",
       "      <td>12</td>\n",
       "      <td>31</td>\n",
       "      <td>15.92</td>\n",
       "      <td>0.12</td>\n",
       "      <td>...</td>\n",
       "      <td>8.96</td>\n",
       "      <td>16</td>\n",
       "      <td>5</td>\n",
       "      <td>290.58</td>\n",
       "      <td>65.91</td>\n",
       "      <td>2.95</td>\n",
       "      <td>7.67</td>\n",
       "      <td>575.80</td>\n",
       "      <td>1027.60</td>\n",
       "      <td>15.76</td>\n",
       "    </tr>\n",
       "    <tr>\n",
       "      <th>23281</th>\n",
       "      <td>250</td>\n",
       "      <td>-6</td>\n",
       "      <td>280110001</td>\n",
       "      <td>33.75</td>\n",
       "      <td>-90.72</td>\n",
       "      <td>2006</td>\n",
       "      <td>12</td>\n",
       "      <td>31</td>\n",
       "      <td>17.58</td>\n",
       "      <td>0.11</td>\n",
       "      <td>...</td>\n",
       "      <td>5.38</td>\n",
       "      <td>18</td>\n",
       "      <td>6</td>\n",
       "      <td>288.20</td>\n",
       "      <td>65.30</td>\n",
       "      <td>5.93</td>\n",
       "      <td>8.69</td>\n",
       "      <td>872.67</td>\n",
       "      <td>1011.98</td>\n",
       "      <td>17.03</td>\n",
       "    </tr>\n",
       "  </tbody>\n",
       "</table>\n",
       "<p>5 rows × 23 columns</p>\n",
       "</div>"
      ],
      "text/plain": [
       "       StationNum  GMT        AQS    LAT    LON  YEAR  MONTH  DAY  MODHR  \\\n",
       "23277         320   -5  371170001  35.81 -76.90  2006     12   30  15.25   \n",
       "23278         344   -5  371910005  35.37 -77.99  2006     12   30  16.83   \n",
       "23279         320   -5  371170001  35.81 -76.90  2006     12   31  15.92   \n",
       "23280         330   -5  371290002  34.36 -77.84  2006     12   31  15.92   \n",
       "23281         250   -6  280110001  33.75 -90.72  2006     12   31  17.58   \n",
       "\n",
       "        TAU  ...  PM24H  RUCHR  RUCPIX     TMP     RH  WS10m  WS925    HPBL  \\\n",
       "23277  0.07  ...  10.67     15       6  280.12  88.94   0.93   6.11  124.83   \n",
       "23278  0.10  ...  13.08     17       8  286.85  57.07   2.21   3.01  290.00   \n",
       "23279  0.17  ...  13.38     16       6  287.57  55.72   3.08   0.88  442.83   \n",
       "23280  0.12  ...   8.96     16       5  290.58  65.91   2.95   7.67  575.80   \n",
       "23281  0.11  ...   5.38     18       6  288.20  65.30   5.93   8.69  872.67   \n",
       "\n",
       "           PRS    VIS  \n",
       "23277  1033.20   9.34  \n",
       "23278  1028.37  20.85  \n",
       "23279  1028.75  21.33  \n",
       "23280  1027.60  15.76  \n",
       "23281  1011.98  17.03  \n",
       "\n",
       "[5 rows x 23 columns]"
      ]
     },
     "execution_count": 3,
     "metadata": {},
     "output_type": "execute_result"
    }
   ],
   "source": [
    "df.tail(5)"
   ]
  },
  {
   "cell_type": "code",
   "execution_count": 4,
   "metadata": {},
   "outputs": [
    {
     "data": {
      "text/plain": [
       "Index(['StationNum', 'GMT', 'AQS', 'LAT', 'LON', 'YEAR', 'MONTH', 'DAY',\n",
       "       'MODHR', 'TAU', 'CLOUD', 'MODPIX', 'PM1H', 'PM24H', 'RUCHR', 'RUCPIX',\n",
       "       'TMP', 'RH', 'WS10m', 'WS925', 'HPBL', 'PRS', 'VIS'],\n",
       "      dtype='object')"
      ]
     },
     "execution_count": 4,
     "metadata": {},
     "output_type": "execute_result"
    }
   ],
   "source": [
    "df.columns"
   ]
  },
  {
   "cell_type": "code",
   "execution_count": 33,
   "metadata": {},
   "outputs": [
    {
     "data": {
      "text/plain": [
       "array([[<matplotlib.axes._subplots.AxesSubplot object at 0x000002C9DCBCDC18>,\n",
       "        <matplotlib.axes._subplots.AxesSubplot object at 0x000002C9DCCB2CC0>],\n",
       "       [<matplotlib.axes._subplots.AxesSubplot object at 0x000002C9DCCA2240>,\n",
       "        <matplotlib.axes._subplots.AxesSubplot object at 0x000002C9DD26D780>],\n",
       "       [<matplotlib.axes._subplots.AxesSubplot object at 0x000002C9DD427CF8>,\n",
       "        <matplotlib.axes._subplots.AxesSubplot object at 0x000002C9DD41B2B0>]],\n",
       "      dtype=object)"
      ]
     },
     "execution_count": 33,
     "metadata": {},
     "output_type": "execute_result"
    },
    {
     "data": {
      "image/png": "[encoded data removed]",
      "text/plain": [
       "<Figure size 432x288 with 6 Axes>"
      ]
     },
     "metadata": {
      "needs_background": "light"
     },
     "output_type": "display_data"
    }
   ],
   "source": [
    "df1 = df[['TAU','PM24H','TMP','RH','HPBL','WS10m']]\n",
    "df1.hist(bins=4)\n",
    "# df['PM24H'].hist(bins=4)\n",
    "# df['TMP'].hist(bins=4)\n",
    "# df['RH'].hist(bins=4)"
   ]
  },
  {
   "cell_type": "code",
   "execution_count": 46,
   "metadata": {},
   "outputs": [
    {
     "data": {
      "text/plain": [
       "<matplotlib.collections.PathCollection at 0x2c9ea22c668>"
      ]
     },
     "execution_count": 46,
     "metadata": {},
     "output_type": "execute_result"
    },
    {
     "data": {
      "image/png": "[encoded data removed]",
      "text/plain": [
       "<Figure size 432x288 with 1 Axes>"
      ]
     },
     "metadata": {
      "needs_background": "light"
     },
     "output_type": "display_data"
    }
   ],
   "source": [
    "plt.scatter(df['PM24H'],df['TAU'])"
   ]
  },
  {
   "cell_type": "code",
   "execution_count": 91,
   "metadata": {},
   "outputs": [
    {
     "name": "stdout",
     "output_type": "stream",
     "text": [
      "Slope: [[22.49910348]]\n",
      "Intercept: [11.03622993]\n",
      "Root mean squared error:  38.33489089546967\n",
      "R2 score:  0.32882715674485585\n"
     ]
    },
    {
     "data": {
      "text/plain": [
       "[<matplotlib.lines.Line2D at 0x2c9ea14f2b0>]"
      ]
     },
     "execution_count": 91,
     "metadata": {},
     "output_type": "execute_result"
    },
    {
     "data": {
      "image/png": "[encoded data removed]",
      "text/plain": [
       "<Figure size 432x288 with 1 Axes>"
      ]
     },
     "metadata": {
      "needs_background": "light"
     },
     "output_type": "display_data"
    }
   ],
   "source": [
    "import numpy as np\n",
    "from sklearn.linear_model import LinearRegression\n",
    "from sklearn.metrics import mean_squared_error, r2_score\n",
    "import sklearn\n",
    "\n",
    "\n",
    "# generate random data-set\n",
    "np.random.seed(0)\n",
    "# x = pd.DataFrame(df[['TAU', 'RH','TMP','HPBL','WS10m','CLOUD']])\n",
    "x=  pd.DataFrame(df['TAU'])\n",
    "y = pd.DataFrame(df['PM24H'])\n",
    "\n",
    "X_train, X_test, y_train, y_test = sklearn.model_selection.train_test_split(x, y, test_size = 0.2, random_state = 0)\n",
    "\n",
    "# sckit-learn implementation\n",
    "\n",
    "# Model initialization\n",
    "regression_model = LinearRegression()\n",
    "# Fit the data(train the model)\n",
    "regression_model.fit(X_train, y_train)\n",
    "# Predict\n",
    "y_predicted = regression_model.predict(X_test)\n",
    "\n",
    "# model evaluation\n",
    "rmse = mean_squared_error(y_test, y_predicted)\n",
    "r2 = r2_score(y_test, y_predicted)\n",
    "\n",
    "# printing values\n",
    "print('Slope:' ,regression_model.coef_)\n",
    "print('Intercept:', regression_model.intercept_)\n",
    "print('Root mean squared error: ', rmse)\n",
    "print('R2 score: ', r2)\n",
    "\n",
    "# plotting values\n",
    "\n",
    "# data points\n",
    "plt.scatter(y_test, y_predicted, s=10)\n",
    "plt.xlabel('Observed PM2.5')\n",
    "plt.ylabel('Estimated PM2.5')\n",
    "\n",
    "# predicted values\n",
    "t = np.linspace(0, y_test.max(), 10)\n",
    "plt.plot(t, t, color='r')\n",
    "# plt.show()|"
   ]
  },
  {
   "cell_type": "code",
   "execution_count": 99,
   "metadata": {},
   "outputs": [
    {
     "name": "stdout",
     "output_type": "stream",
     "text": [
      "Slope: [[ 1.59472688e+01 -4.35072591e-02  2.61970593e-01 -1.80879878e-03\n",
      "  -7.65309206e-01 -4.19783460e-02]]\n",
      "Intercept: [-58.30456101]\n",
      "Root mean squared error:  32.06037057931678\n",
      "R2 score:  0.438682370683972\n"
     ]
    },
    {
     "data": {
      "text/plain": [
       "[<matplotlib.lines.Line2D at 0x2c9df1a53c8>]"
      ]
     },
     "execution_count": 99,
     "metadata": {},
     "output_type": "execute_result"
    },
    {
     "data": {
      "image/png": "[encoded data removed]",
      "text/plain": [
       "<Figure size 432x288 with 1 Axes>"
      ]
     },
     "metadata": {
      "needs_background": "light"
     },
     "output_type": "display_data"
    }
   ],
   "source": [
    "#MULTIPLE REGRESSION\n",
    "\n",
    "\n",
    "# generate random data-set\n",
    "np.random.seed(0)\n",
    "x = pd.DataFrame(df[['TAU', 'RH','TMP','HPBL','WS10m','CLOUD']])\n",
    "\n",
    "y = pd.DataFrame(df['PM24H'])\n",
    "\n",
    "X_train, X_test, y_train, y_test = sklearn.model_selection.train_test_split(x, y, test_size = 0.2, random_state = 0)\n",
    "\n",
    "# sckit-learn implementation\n",
    "\n",
    "# Model initialization\n",
    "regression_model = LinearRegression()\n",
    "# Fit the data(train the model)\n",
    "regression_model.fit(X_train, y_train)\n",
    "# Predict\n",
    "y_predicted = regression_model.predict(X_test)\n",
    "\n",
    "# model evaluation\n",
    "rmse = mean_squared_error(y_test, y_predicted)\n",
    "r2 = r2_score(y_test, y_predicted)\n",
    "\n",
    "# printing values\n",
    "print('Slope:' ,regression_model.coef_)\n",
    "print('Intercept:', regression_model.intercept_)\n",
    "print('Root mean squared error: ', rmse)\n",
    "print('R2 score: ', r2)\n",
    "\n",
    "# plotting values\n",
    "\n",
    "# data points\n",
    "plt.scatter(y_test, y_predicted, s=10)\n",
    "plt.xlabel('Observed PM2.5')\n",
    "plt.ylabel('Estimated PM2.5')\n",
    "\n",
    "t = np.linspace(0, y_test.max(), 10)\n",
    "plt.plot(t, t, color='r')\n",
    "# plt.show()"
   ]
  },
  {
   "cell_type": "code",
   "execution_count": 97,
   "metadata": {},
   "outputs": [
    {
     "data": {
      "text/html": [
       "<div>\n",
       "<style scoped>\n",
       "    .dataframe tbody tr th:only-of-type {\n",
       "        vertical-align: middle;\n",
       "    }\n",
       "\n",
       "    .dataframe tbody tr th {\n",
       "        vertical-align: top;\n",
       "    }\n",
       "\n",
       "    .dataframe thead th {\n",
       "        text-align: right;\n",
       "    }\n",
       "</style>\n",
       "<table border=\"1\" class=\"dataframe\">\n",
       "  <thead>\n",
       "    <tr style=\"text-align: right;\">\n",
       "      <th></th>\n",
       "      <th>StationNum</th>\n",
       "      <th>GMT</th>\n",
       "      <th>AQS</th>\n",
       "      <th>LAT</th>\n",
       "      <th>LON</th>\n",
       "      <th>YEAR</th>\n",
       "      <th>MONTH</th>\n",
       "      <th>DAY</th>\n",
       "      <th>MODHR</th>\n",
       "      <th>TAU</th>\n",
       "      <th>...</th>\n",
       "      <th>PM24H</th>\n",
       "      <th>RUCHR</th>\n",
       "      <th>RUCPIX</th>\n",
       "      <th>TMP</th>\n",
       "      <th>RH</th>\n",
       "      <th>WS10m</th>\n",
       "      <th>WS925</th>\n",
       "      <th>HPBL</th>\n",
       "      <th>PRS</th>\n",
       "      <th>VIS</th>\n",
       "    </tr>\n",
       "  </thead>\n",
       "  <tbody>\n",
       "    <tr>\n",
       "      <th>1369</th>\n",
       "      <td>18</td>\n",
       "      <td>-6</td>\n",
       "      <td>10890014</td>\n",
       "      <td>34.69</td>\n",
       "      <td>-86.58</td>\n",
       "      <td>2004</td>\n",
       "      <td>3</td>\n",
       "      <td>22</td>\n",
       "      <td>16.58</td>\n",
       "      <td>0.04</td>\n",
       "      <td>...</td>\n",
       "      <td>7.29</td>\n",
       "      <td>17</td>\n",
       "      <td>4</td>\n",
       "      <td>279.57</td>\n",
       "      <td>41.41</td>\n",
       "      <td>5.02</td>\n",
       "      <td>8.85</td>\n",
       "      <td>251.00</td>\n",
       "      <td>1000.20</td>\n",
       "      <td>29.94</td>\n",
       "    </tr>\n",
       "    <tr>\n",
       "      <th>1414</th>\n",
       "      <td>18</td>\n",
       "      <td>-6</td>\n",
       "      <td>10890014</td>\n",
       "      <td>34.69</td>\n",
       "      <td>-86.58</td>\n",
       "      <td>2004</td>\n",
       "      <td>3</td>\n",
       "      <td>23</td>\n",
       "      <td>17.25</td>\n",
       "      <td>0.08</td>\n",
       "      <td>...</td>\n",
       "      <td>11.00</td>\n",
       "      <td>17</td>\n",
       "      <td>4</td>\n",
       "      <td>285.03</td>\n",
       "      <td>32.77</td>\n",
       "      <td>3.48</td>\n",
       "      <td>4.71</td>\n",
       "      <td>360.75</td>\n",
       "      <td>1000.90</td>\n",
       "      <td>37.26</td>\n",
       "    </tr>\n",
       "    <tr>\n",
       "      <th>1488</th>\n",
       "      <td>18</td>\n",
       "      <td>-6</td>\n",
       "      <td>10890014</td>\n",
       "      <td>34.69</td>\n",
       "      <td>-86.58</td>\n",
       "      <td>2004</td>\n",
       "      <td>3</td>\n",
       "      <td>25</td>\n",
       "      <td>17.08</td>\n",
       "      <td>0.15</td>\n",
       "      <td>...</td>\n",
       "      <td>17.25</td>\n",
       "      <td>17</td>\n",
       "      <td>4</td>\n",
       "      <td>294.47</td>\n",
       "      <td>50.53</td>\n",
       "      <td>4.76</td>\n",
       "      <td>7.91</td>\n",
       "      <td>162.50</td>\n",
       "      <td>1001.40</td>\n",
       "      <td>22.71</td>\n",
       "    </tr>\n",
       "    <tr>\n",
       "      <th>1515</th>\n",
       "      <td>18</td>\n",
       "      <td>-6</td>\n",
       "      <td>10890014</td>\n",
       "      <td>34.69</td>\n",
       "      <td>-86.58</td>\n",
       "      <td>2004</td>\n",
       "      <td>3</td>\n",
       "      <td>26</td>\n",
       "      <td>16.17</td>\n",
       "      <td>0.32</td>\n",
       "      <td>...</td>\n",
       "      <td>11.58</td>\n",
       "      <td>16</td>\n",
       "      <td>4</td>\n",
       "      <td>294.28</td>\n",
       "      <td>60.03</td>\n",
       "      <td>4.83</td>\n",
       "      <td>8.93</td>\n",
       "      <td>143.75</td>\n",
       "      <td>999.35</td>\n",
       "      <td>18.11</td>\n",
       "    </tr>\n",
       "    <tr>\n",
       "      <th>1557</th>\n",
       "      <td>18</td>\n",
       "      <td>-6</td>\n",
       "      <td>10890014</td>\n",
       "      <td>34.69</td>\n",
       "      <td>-86.58</td>\n",
       "      <td>2004</td>\n",
       "      <td>3</td>\n",
       "      <td>28</td>\n",
       "      <td>15.92</td>\n",
       "      <td>0.07</td>\n",
       "      <td>...</td>\n",
       "      <td>14.38</td>\n",
       "      <td>16</td>\n",
       "      <td>4</td>\n",
       "      <td>296.72</td>\n",
       "      <td>54.96</td>\n",
       "      <td>2.86</td>\n",
       "      <td>8.49</td>\n",
       "      <td>581.50</td>\n",
       "      <td>993.25</td>\n",
       "      <td>19.70</td>\n",
       "    </tr>\n",
       "  </tbody>\n",
       "</table>\n",
       "<p>5 rows × 23 columns</p>\n",
       "</div>"
      ],
      "text/plain": [
       "      StationNum  GMT       AQS    LAT    LON  YEAR  MONTH  DAY  MODHR   TAU  \\\n",
       "1369          18   -6  10890014  34.69 -86.58  2004      3   22  16.58  0.04   \n",
       "1414          18   -6  10890014  34.69 -86.58  2004      3   23  17.25  0.08   \n",
       "1488          18   -6  10890014  34.69 -86.58  2004      3   25  17.08  0.15   \n",
       "1515          18   -6  10890014  34.69 -86.58  2004      3   26  16.17  0.32   \n",
       "1557          18   -6  10890014  34.69 -86.58  2004      3   28  15.92  0.07   \n",
       "\n",
       "      ...  PM24H  RUCHR  RUCPIX     TMP     RH  WS10m  WS925    HPBL      PRS  \\\n",
       "1369  ...   7.29     17       4  279.57  41.41   5.02   8.85  251.00  1000.20   \n",
       "1414  ...  11.00     17       4  285.03  32.77   3.48   4.71  360.75  1000.90   \n",
       "1488  ...  17.25     17       4  294.47  50.53   4.76   7.91  162.50  1001.40   \n",
       "1515  ...  11.58     16       4  294.28  60.03   4.83   8.93  143.75   999.35   \n",
       "1557  ...  14.38     16       4  296.72  54.96   2.86   8.49  581.50   993.25   \n",
       "\n",
       "        VIS  \n",
       "1369  29.94  \n",
       "1414  37.26  \n",
       "1488  22.71  \n",
       "1515  18.11  \n",
       "1557  19.70  \n",
       "\n",
       "[5 rows x 23 columns]"
      ]
     },
     "execution_count": 97,
     "metadata": {},
     "output_type": "execute_result"
    }
   ],
   "source": [
    "d1 = df.loc[df['StationNum'] == 18]\n",
    "d1.head()"
   ]
  },
  {
   "cell_type": "code",
   "execution_count": 100,
   "metadata": {},
   "outputs": [
    {
     "name": "stdout",
     "output_type": "stream",
     "text": [
      "Slope: [[ 1.59472688e+01 -4.35072591e-02  2.61970593e-01 -1.80879878e-03\n",
      "  -7.65309206e-01 -4.19783460e-02]]\n",
      "Intercept: [-58.30456101]\n",
      "Root mean squared error:  31.753157067903942\n",
      "R2 score:  0.4651726402552947\n"
     ]
    },
    {
     "data": {
      "text/plain": [
       "[<matplotlib.lines.Line2D at 0x2c9df1a5668>]"
      ]
     },
     "execution_count": 100,
     "metadata": {},
     "output_type": "execute_result"
    },
    {
     "data": {
      "image/png": "[encoded data removed]",
      "text/plain": [
       "<Figure size 432x288 with 1 Axes>"
      ]
     },
     "metadata": {
      "needs_background": "light"
     },
     "output_type": "display_data"
    }
   ],
   "source": [
    "#Predict\n",
    "x = pd.DataFrame(d1[['TAU', 'RH','TMP','HPBL','WS10m','CLOUD']])\n",
    "y = d1['PM24H']\n",
    "y_predicted = regression_model.predict(x)\n",
    "\n",
    "\n",
    "\n",
    "\n",
    "# model evaluation\n",
    "rmse = mean_squared_error(y, y_predicted)\n",
    "r2 = r2_score(y, y_predicted)\n",
    "\n",
    "# printing values\n",
    "print('Slope:' ,regression_model.coef_)\n",
    "print('Intercept:', regression_model.intercept_)\n",
    "print('Root mean squared error: ', rmse)\n",
    "print('R2 score: ', r2)\n",
    "\n",
    "# plotting values\n",
    "\n",
    "# data points\n",
    "plt.scatter(y, y_predicted, s=10)\n",
    "plt.xlabel('Observed PM2.5')\n",
    "plt.ylabel('Estimated PM2.5')\n",
    "\n",
    "# predicted values\n",
    "t = np.linspace(0, y.max(), 10)\n",
    "plt.plot(t, t, color='r')\n",
    "# plt.show()"
   ]
  },
  {
   "cell_type": "code",
   "execution_count": 73,
   "metadata": {},
   "outputs": [],
   "source": [
    "from scipy.stats import linregress"
   ]
  },
  {
   "cell_type": "code",
   "execution_count": 77,
   "metadata": {},
   "outputs": [
    {
     "data": {
      "text/plain": [
       "LinregressResult(slope=22.756035076199847, intercept=11.014390289589723, rvalue=0.553622734996213, pvalue=0.0, stderr=0.22434428331361628)"
      ]
     },
     "execution_count": 77,
     "metadata": {},
     "output_type": "execute_result"
    }
   ],
   "source": [
    "a = list(df['TAU'].values)\n",
    "b = list(df['PM24H'].values)\n",
    "linregress(a,b)"
   ]
  },
  {
   "cell_type": "code",
   "execution_count": 79,
   "metadata": {},
   "outputs": [
    {
     "data": {
      "text/html": [
       "<div>\n",
       "<style scoped>\n",
       "    .dataframe tbody tr th:only-of-type {\n",
       "        vertical-align: middle;\n",
       "    }\n",
       "\n",
       "    .dataframe tbody tr th {\n",
       "        vertical-align: top;\n",
       "    }\n",
       "\n",
       "    .dataframe thead th {\n",
       "        text-align: right;\n",
       "    }\n",
       "</style>\n",
       "<table border=\"1\" class=\"dataframe\">\n",
       "  <thead>\n",
       "    <tr style=\"text-align: right;\">\n",
       "      <th></th>\n",
       "      <th>TAU</th>\n",
       "      <th>PM24H</th>\n",
       "      <th>TMP</th>\n",
       "      <th>RH</th>\n",
       "      <th>HPBL</th>\n",
       "      <th>WS10m</th>\n",
       "    </tr>\n",
       "  </thead>\n",
       "  <tbody>\n",
       "    <tr>\n",
       "      <th>TAU</th>\n",
       "      <td>1.000000</td>\n",
       "      <td>0.553623</td>\n",
       "      <td>0.534821</td>\n",
       "      <td>0.281629</td>\n",
       "      <td>0.014602</td>\n",
       "      <td>-0.139001</td>\n",
       "    </tr>\n",
       "    <tr>\n",
       "      <th>PM24H</th>\n",
       "      <td>0.553623</td>\n",
       "      <td>1.000000</td>\n",
       "      <td>0.527427</td>\n",
       "      <td>0.133708</td>\n",
       "      <td>-0.000035</td>\n",
       "      <td>-0.284852</td>\n",
       "    </tr>\n",
       "    <tr>\n",
       "      <th>TMP</th>\n",
       "      <td>0.534821</td>\n",
       "      <td>0.527427</td>\n",
       "      <td>1.000000</td>\n",
       "      <td>0.223526</td>\n",
       "      <td>0.209034</td>\n",
       "      <td>-0.162217</td>\n",
       "    </tr>\n",
       "    <tr>\n",
       "      <th>RH</th>\n",
       "      <td>0.281629</td>\n",
       "      <td>0.133708</td>\n",
       "      <td>0.223526</td>\n",
       "      <td>1.000000</td>\n",
       "      <td>-0.233009</td>\n",
       "      <td>-0.076583</td>\n",
       "    </tr>\n",
       "    <tr>\n",
       "      <th>HPBL</th>\n",
       "      <td>0.014602</td>\n",
       "      <td>-0.000035</td>\n",
       "      <td>0.209034</td>\n",
       "      <td>-0.233009</td>\n",
       "      <td>1.000000</td>\n",
       "      <td>0.175562</td>\n",
       "    </tr>\n",
       "    <tr>\n",
       "      <th>WS10m</th>\n",
       "      <td>-0.139001</td>\n",
       "      <td>-0.284852</td>\n",
       "      <td>-0.162217</td>\n",
       "      <td>-0.076583</td>\n",
       "      <td>0.175562</td>\n",
       "      <td>1.000000</td>\n",
       "    </tr>\n",
       "  </tbody>\n",
       "</table>\n",
       "</div>"
      ],
      "text/plain": [
       "            TAU     PM24H       TMP        RH      HPBL     WS10m\n",
       "TAU    1.000000  0.553623  0.534821  0.281629  0.014602 -0.139001\n",
       "PM24H  0.553623  1.000000  0.527427  0.133708 -0.000035 -0.284852\n",
       "TMP    0.534821  0.527427  1.000000  0.223526  0.209034 -0.162217\n",
       "RH     0.281629  0.133708  0.223526  1.000000 -0.233009 -0.076583\n",
       "HPBL   0.014602 -0.000035  0.209034 -0.233009  1.000000  0.175562\n",
       "WS10m -0.139001 -0.284852 -0.162217 -0.076583  0.175562  1.000000"
      ]
     },
     "execution_count": 79,
     "metadata": {},
     "output_type": "execute_result"
    }
   ],
   "source": [
    "df1.corr()"
   ]
  },
  {
   "cell_type": "code",
   "execution_count": null,
   "metadata": {},
   "outputs": [],
   "source": []
  }
 ],
 "metadata": {
  "kernelspec": {
   "display_name": "Python 3",
   "language": "python",
   "name": "python3"
  },
  "language_info": {
   "codemirror_mode": {
    "name": "ipython",
    "version": 3
   },
   "file_extension": ".py",
   "mimetype": "text/x-python",
   "name": "python",
   "nbconvert_exporter": "python",
   "pygments_lexer": "ipython3",
   "version": "3.6.8"
  }
 },
 "nbformat": 4,
 "nbformat_minor": 2
}
