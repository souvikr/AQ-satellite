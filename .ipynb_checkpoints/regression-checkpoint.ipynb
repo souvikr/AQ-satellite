{
 "cells": [
  {
   "cell_type": "code",
   "execution_count": 1,
   "metadata": {},
   "outputs": [],
   "source": [
    "import pandas as pd"
   ]
  },
  {
   "cell_type": "code",
   "execution_count": 2,
   "metadata": {},
   "outputs": [],
   "source": [
    "df = pd.read_excel(\"pm_nasa.xlsx\")"
   ]
  },
  {
   "cell_type": "code",
   "execution_count": 3,
   "metadata": {},
   "outputs": [
    {
     "data": {
      "text/html": [
       "<div>\n",
       "<style scoped>\n",
       "    .dataframe tbody tr th:only-of-type {\n",
       "        vertical-align: middle;\n",
       "    }\n",
       "\n",
       "    .dataframe tbody tr th {\n",
       "        vertical-align: top;\n",
       "    }\n",
       "\n",
       "    .dataframe thead th {\n",
       "        text-align: right;\n",
       "    }\n",
       "</style>\n",
       "<table border=\"1\" class=\"dataframe\">\n",
       "  <thead>\n",
       "    <tr style=\"text-align: right;\">\n",
       "      <th></th>\n",
       "      <th>StationNum</th>\n",
       "      <th>GMT</th>\n",
       "      <th>AQS</th>\n",
       "      <th>LAT</th>\n",
       "      <th>LON</th>\n",
       "      <th>YEAR</th>\n",
       "      <th>MONTH</th>\n",
       "      <th>DAY</th>\n",
       "      <th>MODHR</th>\n",
       "      <th>TAU</th>\n",
       "      <th>...</th>\n",
       "      <th>PM24H</th>\n",
       "      <th>RUCHR</th>\n",
       "      <th>RUCPIX</th>\n",
       "      <th>TMP</th>\n",
       "      <th>RH</th>\n",
       "      <th>WS10m</th>\n",
       "      <th>WS925</th>\n",
       "      <th>HPBL</th>\n",
       "      <th>PRS</th>\n",
       "      <th>VIS</th>\n",
       "    </tr>\n",
       "  </thead>\n",
       "  <tbody>\n",
       "    <tr>\n",
       "      <th>23277</th>\n",
       "      <td>320</td>\n",
       "      <td>-5</td>\n",
       "      <td>371170001</td>\n",
       "      <td>35.81</td>\n",
       "      <td>-76.90</td>\n",
       "      <td>2006</td>\n",
       "      <td>12</td>\n",
       "      <td>30</td>\n",
       "      <td>15.25</td>\n",
       "      <td>0.07</td>\n",
       "      <td>...</td>\n",
       "      <td>10.67</td>\n",
       "      <td>15</td>\n",
       "      <td>6</td>\n",
       "      <td>280.12</td>\n",
       "      <td>88.94</td>\n",
       "      <td>0.93</td>\n",
       "      <td>6.11</td>\n",
       "      <td>124.83</td>\n",
       "      <td>1033.20</td>\n",
       "      <td>9.34</td>\n",
       "    </tr>\n",
       "    <tr>\n",
       "      <th>23278</th>\n",
       "      <td>344</td>\n",
       "      <td>-5</td>\n",
       "      <td>371910005</td>\n",
       "      <td>35.37</td>\n",
       "      <td>-77.99</td>\n",
       "      <td>2006</td>\n",
       "      <td>12</td>\n",
       "      <td>30</td>\n",
       "      <td>16.83</td>\n",
       "      <td>0.10</td>\n",
       "      <td>...</td>\n",
       "      <td>13.08</td>\n",
       "      <td>17</td>\n",
       "      <td>8</td>\n",
       "      <td>286.85</td>\n",
       "      <td>57.07</td>\n",
       "      <td>2.21</td>\n",
       "      <td>3.01</td>\n",
       "      <td>290.00</td>\n",
       "      <td>1028.37</td>\n",
       "      <td>20.85</td>\n",
       "    </tr>\n",
       "    <tr>\n",
       "      <th>23279</th>\n",
       "      <td>320</td>\n",
       "      <td>-5</td>\n",
       "      <td>371170001</td>\n",
       "      <td>35.81</td>\n",
       "      <td>-76.90</td>\n",
       "      <td>2006</td>\n",
       "      <td>12</td>\n",
       "      <td>31</td>\n",
       "      <td>15.92</td>\n",
       "      <td>0.17</td>\n",
       "      <td>...</td>\n",
       "      <td>13.38</td>\n",
       "      <td>16</td>\n",
       "      <td>6</td>\n",
       "      <td>287.57</td>\n",
       "      <td>55.72</td>\n",
       "      <td>3.08</td>\n",
       "      <td>0.88</td>\n",
       "      <td>442.83</td>\n",
       "      <td>1028.75</td>\n",
       "      <td>21.33</td>\n",
       "    </tr>\n",
       "    <tr>\n",
       "      <th>23280</th>\n",
       "      <td>330</td>\n",
       "      <td>-5</td>\n",
       "      <td>371290002</td>\n",
       "      <td>34.36</td>\n",
       "      <td>-77.84</td>\n",
       "      <td>2006</td>\n",
       "      <td>12</td>\n",
       "      <td>31</td>\n",
       "      <td>15.92</td>\n",
       "      <td>0.12</td>\n",
       "      <td>...</td>\n",
       "      <td>8.96</td>\n",
       "      <td>16</td>\n",
       "      <td>5</td>\n",
       "      <td>290.58</td>\n",
       "      <td>65.91</td>\n",
       "      <td>2.95</td>\n",
       "      <td>7.67</td>\n",
       "      <td>575.80</td>\n",
       "      <td>1027.60</td>\n",
       "      <td>15.76</td>\n",
       "    </tr>\n",
       "    <tr>\n",
       "      <th>23281</th>\n",
       "      <td>250</td>\n",
       "      <td>-6</td>\n",
       "      <td>280110001</td>\n",
       "      <td>33.75</td>\n",
       "      <td>-90.72</td>\n",
       "      <td>2006</td>\n",
       "      <td>12</td>\n",
       "      <td>31</td>\n",
       "      <td>17.58</td>\n",
       "      <td>0.11</td>\n",
       "      <td>...</td>\n",
       "      <td>5.38</td>\n",
       "      <td>18</td>\n",
       "      <td>6</td>\n",
       "      <td>288.20</td>\n",
       "      <td>65.30</td>\n",
       "      <td>5.93</td>\n",
       "      <td>8.69</td>\n",
       "      <td>872.67</td>\n",
       "      <td>1011.98</td>\n",
       "      <td>17.03</td>\n",
       "    </tr>\n",
       "  </tbody>\n",
       "</table>\n",
       "<p>5 rows × 23 columns</p>\n",
       "</div>"
      ],
      "text/plain": [
       "       StationNum  GMT        AQS    LAT    LON  YEAR  MONTH  DAY  MODHR  \\\n",
       "23277         320   -5  371170001  35.81 -76.90  2006     12   30  15.25   \n",
       "23278         344   -5  371910005  35.37 -77.99  2006     12   30  16.83   \n",
       "23279         320   -5  371170001  35.81 -76.90  2006     12   31  15.92   \n",
       "23280         330   -5  371290002  34.36 -77.84  2006     12   31  15.92   \n",
       "23281         250   -6  280110001  33.75 -90.72  2006     12   31  17.58   \n",
       "\n",
       "        TAU  ...  PM24H  RUCHR  RUCPIX     TMP     RH  WS10m  WS925    HPBL  \\\n",
       "23277  0.07  ...  10.67     15       6  280.12  88.94   0.93   6.11  124.83   \n",
       "23278  0.10  ...  13.08     17       8  286.85  57.07   2.21   3.01  290.00   \n",
       "23279  0.17  ...  13.38     16       6  287.57  55.72   3.08   0.88  442.83   \n",
       "23280  0.12  ...   8.96     16       5  290.58  65.91   2.95   7.67  575.80   \n",
       "23281  0.11  ...   5.38     18       6  288.20  65.30   5.93   8.69  872.67   \n",
       "\n",
       "           PRS    VIS  \n",
       "23277  1033.20   9.34  \n",
       "23278  1028.37  20.85  \n",
       "23279  1028.75  21.33  \n",
       "23280  1027.60  15.76  \n",
       "23281  1011.98  17.03  \n",
       "\n",
       "[5 rows x 23 columns]"
      ]
     },
     "execution_count": 3,
     "metadata": {},
     "output_type": "execute_result"
    }
   ],
   "source": [
    "df.tail(5)"
   ]
  },
  {
   "cell_type": "code",
   "execution_count": 4,
   "metadata": {},
   "outputs": [
    {
     "data": {
      "text/plain": [
       "Index(['StationNum', 'GMT', 'AQS', 'LAT', 'LON', 'YEAR', 'MONTH', 'DAY',\n",
       "       'MODHR', 'TAU', 'CLOUD', 'MODPIX', 'PM1H', 'PM24H', 'RUCHR', 'RUCPIX',\n",
       "       'TMP', 'RH', 'WS10m', 'WS925', 'HPBL', 'PRS', 'VIS'],\n",
       "      dtype='object')"
      ]
     },
     "execution_count": 4,
     "metadata": {},
     "output_type": "execute_result"
    }
   ],
   "source": [
    "df.columns"
   ]
  },
  {
   "cell_type": "code",
   "execution_count": 33,
   "metadata": {},
   "outputs": [
    {
     "data": {
      "text/plain": [
       "array([[<matplotlib.axes._subplots.AxesSubplot object at 0x000002C9DCBCDC18>,\n",
       "        <matplotlib.axes._subplots.AxesSubplot object at 0x000002C9DCCB2CC0>],\n",
       "       [<matplotlib.axes._subplots.AxesSubplot object at 0x000002C9DCCA2240>,\n",
       "        <matplotlib.axes._subplots.AxesSubplot object at 0x000002C9DD26D780>],\n",
       "       [<matplotlib.axes._subplots.AxesSubplot object at 0x000002C9DD427CF8>,\n",
       "        <matplotlib.axes._subplots.AxesSubplot object at 0x000002C9DD41B2B0>]],\n",
       "      dtype=object)"
      ]
     },
     "execution_count": 33,
     "metadata": {},
     "output_type": "execute_result"
    },
    {
     "data": {
      "image/png": "[encoded data removed]",
      "text/plain": [
       "<Figure size 432x288 with 6 Axes>"
      ]
     },
     "metadata": {
      "needs_background": "light"
     },
     "output_type": "display_data"
    }
   ],
   "source": [
    "df1 = df[['TAU','PM24H','TMP','RH','HPBL','WS10m']]\n",
    "df1.hist(bins=4)\n",
    "# df['PM24H'].hist(bins=4)\n",
    "# df['TMP'].hist(bins=4)\n",
    "# df['RH'].hist(bins=4)"
   ]
  },
  {
   "cell_type": "code",
   "execution_count": 46,
   "metadata": {},
   "outputs": [
    {
     "data": {
      "text/plain": [
       "<matplotlib.collections.PathCollection at 0x2c9ea22c668>"
      ]
     },
     "execution_count": 46,
     "metadata": {},
     "output_type": "execute_result"
    },
    {
     "data": {
      "image/png": "[encoded data removed]",
      "text/plain": [
       "<Figure size 432x288 with 1 Axes>"
      ]
     },
     "metadata": {
      "needs_background": "light"
     },
     "output_type": "display_data"
    }
   ],
   "source": [
    "plt.scatter(df['PM24H'],df['TAU'])"
   ]
  },
  {
   "cell_type": "code",
   "execution_count": 59,
   "metadata": {},
   "outputs": [
    {
     "name": "stdout",
     "output_type": "stream",
     "text": [
      "Slope: [22.75603508]\n",
      "Intercept: 11.014390289589725\n",
      "Root mean squared error:  39.672946997680306\n",
      "R2 score:  0.30649813270468707\n"
     ]
    },
    {
     "data": {
      "text/plain": [
       "[<matplotlib.lines.Line2D at 0x2c9de72bf28>]"
      ]
     },
     "execution_count": 59,
     "metadata": {},
     "output_type": "execute_result"
    },
    {
     "data": {
      "image/png": "[encoded data removed]",
      "text/plain": [
       "<Figure size 432x288 with 1 Axes>"
      ]
     },
     "metadata": {
      "needs_background": "light"
     },
     "output_type": "display_data"
    }
   ],
   "source": [
    "import numpy as np\n",
    "from sklearn.linear_model import LinearRegression\n",
    "from sklearn.metrics import mean_squared_error, r2_score\n",
    "\n",
    "# generate random data-set\n",
    "np.random.seed(0)\n",
    "# x = pd.DataFrame(df[['TAU', 'RH','TMP','HPBL','WS10m','CLOUD']])\n",
    "x=  pd.DataFrame(df['TAU'])\n",
    "y = df['PM24H']\n",
    "\n",
    "# sckit-learn implementation\n",
    "\n",
    "# Model initialization\n",
    "regression_model = LinearRegression()\n",
    "# Fit the data(train the model)\n",
    "regression_model.fit(x, y)\n",
    "# Predict\n",
    "y_predicted = regression_model.predict(x)\n",
    "\n",
    "# model evaluation\n",
    "rmse = mean_squared_error(y, y_predicted)\n",
    "r2 = r2_score(y, y_predicted)\n",
    "\n",
    "# printing values\n",
    "print('Slope:' ,regression_model.coef_)\n",
    "print('Intercept:', regression_model.intercept_)\n",
    "print('Root mean squared error: ', rmse)\n",
    "print('R2 score: ', r2)\n",
    "\n",
    "# plotting values\n",
    "\n",
    "# data points\n",
    "plt.scatter(y, y_predicted, s=10)\n",
    "plt.xlabel('Observed PM2.5')\n",
    "plt.ylabel('Estimated PM2.5')\n",
    "\n",
    "# predicted values\n",
    "t = np.linspace(0, y.max(), 10)\n",
    "plt.plot(t, t, color='r')\n",
    "# plt.show()|"
   ]
  },
  {
   "cell_type": "code",
   "execution_count": 60,
   "metadata": {},
   "outputs": [
    {
     "name": "stdout",
     "output_type": "stream",
     "text": [
      "Slope: [ 1.63583298e+01 -4.35750007e-02  2.56176734e-01 -1.84414508e-03\n",
      " -7.78450053e-01 -4.09430667e-02]\n",
      "Intercept: -56.60209786022814\n",
      "Root mean squared error:  32.78641687947749\n",
      "R2 score:  0.42687793449854694\n"
     ]
    },
    {
     "data": {
      "text/plain": [
       "[<matplotlib.lines.Line2D at 0x2c9ea322828>]"
      ]
     },
     "execution_count": 60,
     "metadata": {},
     "output_type": "execute_result"
    },
    {
     "data": {
      "image/png": "[encoded data removed]",
      "text/plain": [
       "<Figure size 432x288 with 1 Axes>"
      ]
     },
     "metadata": {
      "needs_background": "light"
     },
     "output_type": "display_data"
    }
   ],
   "source": [
    "# generate random data-set\n",
    "np.random.seed(0)\n",
    "x = pd.DataFrame(df[['TAU', 'RH','TMP','HPBL','WS10m','CLOUD']])\n",
    "y = df['PM24H']\n",
    "\n",
    "# sckit-learn implementation\n",
    "\n",
    "# Model initialization\n",
    "regression_model = LinearRegression()\n",
    "# Fit the data(train the model)\n",
    "regression_model.fit(x, y)\n",
    "# Predict\n",
    "y_predicted = regression_model.predict(x)\n",
    "\n",
    "# model evaluation\n",
    "rmse = mean_squared_error(y, y_predicted)\n",
    "r2 = r2_score(y, y_predicted)\n",
    "\n",
    "# printing values\n",
    "print('Slope:' ,regression_model.coef_)\n",
    "print('Intercept:', regression_model.intercept_)\n",
    "print('Root mean squared error: ', rmse)\n",
    "print('R2 score: ', r2)\n",
    "\n",
    "# plotting values\n",
    "\n",
    "# data points\n",
    "plt.scatter(y, y_predicted, s=10)\n",
    "plt.xlabel('Observed PM2.5')\n",
    "plt.ylabel('Estimated PM2.5')\n",
    "\n",
    "# predicted values\n",
    "t = np.linspace(0, y.max(), 10)\n",
    "plt.plot(t, t, color='r')\n",
    "# plt.show()"
   ]
  },
  {
   "cell_type": "code",
   "execution_count": 61,
   "metadata": {},
   "outputs": [
    {
     "data": {
      "text/html": [
       "<div>\n",
       "<style scoped>\n",
       "    .dataframe tbody tr th:only-of-type {\n",
       "        vertical-align: middle;\n",
       "    }\n",
       "\n",
       "    .dataframe tbody tr th {\n",
       "        vertical-align: top;\n",
       "    }\n",
       "\n",
       "    .dataframe thead th {\n",
       "        text-align: right;\n",
       "    }\n",
       "</style>\n",
       "<table border=\"1\" class=\"dataframe\">\n",
       "  <thead>\n",
       "    <tr style=\"text-align: right;\">\n",
       "      <th></th>\n",
       "      <th>StationNum</th>\n",
       "      <th>GMT</th>\n",
       "      <th>AQS</th>\n",
       "      <th>LAT</th>\n",
       "      <th>LON</th>\n",
       "      <th>YEAR</th>\n",
       "      <th>MONTH</th>\n",
       "      <th>DAY</th>\n",
       "      <th>MODHR</th>\n",
       "      <th>TAU</th>\n",
       "      <th>...</th>\n",
       "      <th>PM24H</th>\n",
       "      <th>RUCHR</th>\n",
       "      <th>RUCPIX</th>\n",
       "      <th>TMP</th>\n",
       "      <th>RH</th>\n",
       "      <th>WS10m</th>\n",
       "      <th>WS925</th>\n",
       "      <th>HPBL</th>\n",
       "      <th>PRS</th>\n",
       "      <th>VIS</th>\n",
       "    </tr>\n",
       "  </thead>\n",
       "  <tbody>\n",
       "    <tr>\n",
       "      <th>19</th>\n",
       "      <td>72</td>\n",
       "      <td>-5</td>\n",
       "      <td>120730012</td>\n",
       "      <td>30.44</td>\n",
       "      <td>-84.35</td>\n",
       "      <td>2004</td>\n",
       "      <td>1</td>\n",
       "      <td>1</td>\n",
       "      <td>15.92</td>\n",
       "      <td>0.07</td>\n",
       "      <td>...</td>\n",
       "      <td>20.50</td>\n",
       "      <td>16</td>\n",
       "      <td>6</td>\n",
       "      <td>287.57</td>\n",
       "      <td>72.80</td>\n",
       "      <td>1.24</td>\n",
       "      <td>3.54</td>\n",
       "      <td>111.67</td>\n",
       "      <td>1028.12</td>\n",
       "      <td>12.21</td>\n",
       "    </tr>\n",
       "    <tr>\n",
       "      <th>25</th>\n",
       "      <td>72</td>\n",
       "      <td>-5</td>\n",
       "      <td>120730012</td>\n",
       "      <td>30.44</td>\n",
       "      <td>-84.35</td>\n",
       "      <td>2004</td>\n",
       "      <td>1</td>\n",
       "      <td>2</td>\n",
       "      <td>16.58</td>\n",
       "      <td>0.12</td>\n",
       "      <td>...</td>\n",
       "      <td>18.12</td>\n",
       "      <td>17</td>\n",
       "      <td>6</td>\n",
       "      <td>294.53</td>\n",
       "      <td>67.11</td>\n",
       "      <td>3.10</td>\n",
       "      <td>5.51</td>\n",
       "      <td>397.00</td>\n",
       "      <td>1023.12</td>\n",
       "      <td>14.78</td>\n",
       "    </tr>\n",
       "    <tr>\n",
       "      <th>44</th>\n",
       "      <td>72</td>\n",
       "      <td>-5</td>\n",
       "      <td>120730012</td>\n",
       "      <td>30.44</td>\n",
       "      <td>-84.35</td>\n",
       "      <td>2004</td>\n",
       "      <td>1</td>\n",
       "      <td>4</td>\n",
       "      <td>16.42</td>\n",
       "      <td>0.13</td>\n",
       "      <td>...</td>\n",
       "      <td>11.08</td>\n",
       "      <td>16</td>\n",
       "      <td>6</td>\n",
       "      <td>295.28</td>\n",
       "      <td>74.94</td>\n",
       "      <td>2.99</td>\n",
       "      <td>10.62</td>\n",
       "      <td>377.83</td>\n",
       "      <td>1018.72</td>\n",
       "      <td>11.75</td>\n",
       "    </tr>\n",
       "    <tr>\n",
       "      <th>94</th>\n",
       "      <td>72</td>\n",
       "      <td>-5</td>\n",
       "      <td>120730012</td>\n",
       "      <td>30.44</td>\n",
       "      <td>-84.35</td>\n",
       "      <td>2004</td>\n",
       "      <td>1</td>\n",
       "      <td>7</td>\n",
       "      <td>16.92</td>\n",
       "      <td>0.00</td>\n",
       "      <td>...</td>\n",
       "      <td>6.96</td>\n",
       "      <td>17</td>\n",
       "      <td>6</td>\n",
       "      <td>279.25</td>\n",
       "      <td>30.31</td>\n",
       "      <td>3.18</td>\n",
       "      <td>14.18</td>\n",
       "      <td>663.17</td>\n",
       "      <td>1030.38</td>\n",
       "      <td>38.82</td>\n",
       "    </tr>\n",
       "    <tr>\n",
       "      <th>111</th>\n",
       "      <td>72</td>\n",
       "      <td>-5</td>\n",
       "      <td>120730012</td>\n",
       "      <td>30.44</td>\n",
       "      <td>-84.35</td>\n",
       "      <td>2004</td>\n",
       "      <td>1</td>\n",
       "      <td>8</td>\n",
       "      <td>16.00</td>\n",
       "      <td>0.08</td>\n",
       "      <td>...</td>\n",
       "      <td>15.33</td>\n",
       "      <td>16</td>\n",
       "      <td>6</td>\n",
       "      <td>281.33</td>\n",
       "      <td>33.16</td>\n",
       "      <td>1.93</td>\n",
       "      <td>1.75</td>\n",
       "      <td>236.33</td>\n",
       "      <td>1026.52</td>\n",
       "      <td>35.93</td>\n",
       "    </tr>\n",
       "  </tbody>\n",
       "</table>\n",
       "<p>5 rows × 23 columns</p>\n",
       "</div>"
      ],
      "text/plain": [
       "     StationNum  GMT        AQS    LAT    LON  YEAR  MONTH  DAY  MODHR   TAU  \\\n",
       "19           72   -5  120730012  30.44 -84.35  2004      1    1  15.92  0.07   \n",
       "25           72   -5  120730012  30.44 -84.35  2004      1    2  16.58  0.12   \n",
       "44           72   -5  120730012  30.44 -84.35  2004      1    4  16.42  0.13   \n",
       "94           72   -5  120730012  30.44 -84.35  2004      1    7  16.92  0.00   \n",
       "111          72   -5  120730012  30.44 -84.35  2004      1    8  16.00  0.08   \n",
       "\n",
       "     ...  PM24H  RUCHR  RUCPIX     TMP     RH  WS10m  WS925    HPBL      PRS  \\\n",
       "19   ...  20.50     16       6  287.57  72.80   1.24   3.54  111.67  1028.12   \n",
       "25   ...  18.12     17       6  294.53  67.11   3.10   5.51  397.00  1023.12   \n",
       "44   ...  11.08     16       6  295.28  74.94   2.99  10.62  377.83  1018.72   \n",
       "94   ...   6.96     17       6  279.25  30.31   3.18  14.18  663.17  1030.38   \n",
       "111  ...  15.33     16       6  281.33  33.16   1.93   1.75  236.33  1026.52   \n",
       "\n",
       "       VIS  \n",
       "19   12.21  \n",
       "25   14.78  \n",
       "44   11.75  \n",
       "94   38.82  \n",
       "111  35.93  \n",
       "\n",
       "[5 rows x 23 columns]"
      ]
     },
     "execution_count": 61,
     "metadata": {},
     "output_type": "execute_result"
    }
   ],
   "source": [
    "d1 = df.loc[df['StationNum'] == 72]\n",
    "d1.head()"
   ]
  },
  {
   "cell_type": "code",
   "execution_count": null,
   "metadata": {},
   "outputs": [],
   "source": []
  }
 ],
 "metadata": {
  "kernelspec": {
   "display_name": "Python 3",
   "language": "python",
   "name": "python3"
  },
  "language_info": {
   "codemirror_mode": {
    "name": "ipython",
    "version": 3
   },
   "file_extension": ".py",
   "mimetype": "text/x-python",
   "name": "python",
   "nbconvert_exporter": "python",
   "pygments_lexer": "ipython3",
   "version": "3.6.8"
  }
 },
 "nbformat": 4,
 "nbformat_minor": 2
}
